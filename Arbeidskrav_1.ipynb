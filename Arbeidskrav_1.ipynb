{
 "cells": [
  {
   "cell_type": "markdown",
   "id": "ece24c24-306e-46a0-b680-cff9cbc4c5b0",
   "metadata": {},
   "source": [
    "##### Arbeidskrav 1 er besvart av Stig-Asbjørn H. Pedersen, 2025 09 20"
   ]
  },
  {
   "cell_type": "markdown",
   "id": "011c5b57-524c-4d5a-a0e9-21dcacad4911",
   "metadata": {},
   "source": [
    "# Arbeidskrav 1: Sammenligning de årlige kostnadene mellom elbil og besinbil"
   ]
  },
  {
   "cell_type": "markdown",
   "id": "072a5ba9-cc6b-4ee2-9830-c85cc151c295",
   "metadata": {},
   "source": [
    "### Oppgavetekst: \n",
    "\n",
    "_Anta at du skal kjøpe bil. Det står mellom elbil og bensinbil, og du ønsker å sammenlikne de årlige kostnadene ved elbil sammenliknet med bensinbil._\n",
    "\n",
    "_Lag et Python-program som beregner og presenterer (i konsollen) de årlige totalkostnadene for elbil og for bensinbil samt årlig kostnadsdifferanse basert på informasjonen gitt nedenfor. Du kan her for enkelhets skyld se bort fra kostnader som renter på billån og verditap (du har da egentlig antatt at slike kostnader er like for elbil og bensinbil)._\n",
    "\n",
    "_Nedenfor er informasjon som programmet skal baseres på (som selvsagt kan diskuteres, men ikke ifm. denne oppgaven :-)_\n",
    "\n",
    "* _Du kan selv velge antall kjørte km/år ut fra din typiske bilbruk. Ev. (hvis du ikke har bil) kan du anta 10.000 km._\n",
    "* _Forsikring: Elbil: 5000 kr/år. Bensinbil: 7500 kr/år._\n",
    "* _Trafikkforsikringsavgift: 8,38 kr/dag for både elbil og bensinbil._\n",
    "* _Drivstoffbruk: Elbil: 0,2 kWh/km. Strømpris (antar kun hjemmelading): 2.00 kr/kWh. Bensinbil: 1,0 kr/km._\n",
    "* _Bomavgift: Elbil: 0,1 kr/km. Bensinbil: 0,3 kr/km._"
   ]
  },
  {
   "cell_type": "markdown",
   "id": "67831331-e610-47c4-b109-14dfacc24f94",
   "metadata": {},
   "source": [
    "### Besvarelse"
   ]
  },
  {
   "cell_type": "code",
   "execution_count": 1,
   "id": "8e6410f0-68ee-4c33-a1a1-6186b17b4e34",
   "metadata": {},
   "outputs": [],
   "source": [
    "# Antall kjørte km per år for begge kjøretøy\n",
    "km_per_aar = 10000\n",
    "\n",
    "# Faste kostnader for begge kjøretøy\n",
    "forsikring_elbil = 5000  # NOK per år\n",
    "forsikring_bensinbil = 7500  # NOK per år\n",
    "trafikkforsikringsavgift = 8.38 * 365  # NOK per dag multiplisert med 365 dager"
   ]
  },
  {
   "cell_type": "code",
   "execution_count": 2,
   "id": "ef59af66-7cc1-42bc-9925-57592f2aa192",
   "metadata": {},
   "outputs": [],
   "source": [
    "# Variable kostnader for elbil\n",
    "forbruk_elbil = 0.2  # kWh per km\n",
    "strompris = 2.00  # NOK per kWh\n",
    "drivstoff_elbil = (forbruk_elbil * strompris) * km_per_aar  # Årlig drivstoffkostnad for elbil i NOK\n",
    "bomavgift_elbil = (0.1 * km_per_aar)  # Årlig bomavgift for elbil i NOK"
   ]
  },
  {
   "cell_type": "code",
   "execution_count": 3,
   "id": "965d63ba-477f-423b-ad99-e7130176ecab",
   "metadata": {},
   "outputs": [],
   "source": [
    "# Variable kostnader for bensinbil\n",
    "forbruk_bensinbil = 1.0  # NOK per km\n",
    "drivstoff_bensinbil = (forbruk_bensinbil * km_per_aar)  # Årlig drivstoffkostnad for bensinbil i NOK\n",
    "bomavgift_bensinbil = (0.3 * km_per_aar)  # Årlig bomavgift for bensinbil i NOK"
   ]
  },
  {
   "cell_type": "code",
   "execution_count": 4,
   "id": "2965af17-8c7a-4a47-8565-2d7b8e1c0887",
   "metadata": {},
   "outputs": [],
   "source": [
    "# Årlig totalkostnad for begge kjøretøy\n",
    "totalkostnad_bensinbil = forsikring_bensinbil + trafikkforsikringsavgift + drivstoff_bensinbil + bomavgift_bensinbil  # Faste og variable kostnader\n",
    "totalkostnad_elbil = forsikring_elbil + trafikkforsikringsavgift + drivstoff_elbil + bomavgift_elbil  # Faste og variable kostnader"
   ]
  },
  {
   "cell_type": "code",
   "execution_count": 5,
   "id": "aef0be0b-94a2-4e13-a58d-660a1f2478c6",
   "metadata": {},
   "outputs": [],
   "source": [
    "# Årlig kostnadsdifferanse mellom bensinbil og elbil\n",
    "Kostnadsdifferanse = totalkostnad_bensinbil - totalkostnad_elbil"
   ]
  },
  {
   "cell_type": "code",
   "execution_count": 6,
   "id": "99b5f02a-d762-4551-b019-7af373cd2137",
   "metadata": {},
   "outputs": [
    {
     "name": "stdout",
     "output_type": "stream",
     "text": [
      "Totalkostnad bensinbil: 23558.7 Kr\n",
      "Totalkostnad elbil: 13058.7 Kr\n",
      "Kostnadsdifferansen er: 10500.0 Kr\n"
     ]
    }
   ],
   "source": [
    "# Presentasjon av årlige kostnader for begge kjøretøy og kostnadsdifferanse\n",
    "\n",
    "print(\"Totalkostnad bensinbil:\", totalkostnad_bensinbil, \"Kr\")\n",
    "print(\"Totalkostnad elbil:\", totalkostnad_elbil, \"Kr\")\n",
    "print(\"Kostnadsdifferansen er:\", Kostnadsdifferanse, \"Kr\")"
   ]
  }
 ],
 "metadata": {
  "kernelspec": {
   "display_name": "Python [conda env:base] *",
   "language": "python",
   "name": "conda-base-py"
  },
  "language_info": {
   "codemirror_mode": {
    "name": "ipython",
    "version": 3
   },
   "file_extension": ".py",
   "mimetype": "text/x-python",
   "name": "python",
   "nbconvert_exporter": "python",
   "pygments_lexer": "ipython3",
   "version": "3.13.5"
  }
 },
 "nbformat": 4,
 "nbformat_minor": 5
}
